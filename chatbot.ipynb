{
 "cells": [
  {
   "cell_type": "code",
   "execution_count": 1,
   "metadata": {},
   "outputs": [],
   "source": [
    "import pickle\n",
    "import numpy as np"
   ]
  },
  {
   "cell_type": "code",
   "execution_count": 2,
   "metadata": {},
   "outputs": [],
   "source": [
    "with open('original\\\\UPDATED_NLP_COURSE\\\\06-Deep-Learning\\\\train_qa.txt','rb') as f:\n",
    "    train_data = pickle.load(f)"
   ]
  },
  {
   "cell_type": "code",
   "execution_count": 3,
   "metadata": {},
   "outputs": [],
   "source": [
    "with open('original\\\\UPDATED_NLP_COURSE\\\\06-Deep-Learning\\\\test_qa.txt','rb') as f:\n",
    "    test_data = pickle.load(f)"
   ]
  },
  {
   "cell_type": "code",
   "execution_count": 4,
   "metadata": {},
   "outputs": [
    {
     "data": {
      "text/plain": [
       "10000"
      ]
     },
     "execution_count": 4,
     "metadata": {},
     "output_type": "execute_result"
    }
   ],
   "source": [
    "len(train_data)"
   ]
  },
  {
   "cell_type": "code",
   "execution_count": 5,
   "metadata": {},
   "outputs": [
    {
     "data": {
      "text/plain": [
       "1000"
      ]
     },
     "execution_count": 5,
     "metadata": {},
     "output_type": "execute_result"
    }
   ],
   "source": [
    "len(test_data)"
   ]
  },
  {
   "cell_type": "code",
   "execution_count": 9,
   "metadata": {},
   "outputs": [
    {
     "data": {
      "text/plain": [
       "'Mary moved to the bathroom . Sandra journeyed to the bedroom .'"
      ]
     },
     "execution_count": 9,
     "metadata": {},
     "output_type": "execute_result"
    }
   ],
   "source": [
    "' '.join(train_data[0][0])"
   ]
  },
  {
   "cell_type": "code",
   "execution_count": 10,
   "metadata": {},
   "outputs": [],
   "source": [
    "all_data = test_data + train_data"
   ]
  },
  {
   "cell_type": "code",
   "execution_count": 11,
   "metadata": {},
   "outputs": [
    {
     "data": {
      "text/plain": [
       "11000"
      ]
     },
     "execution_count": 11,
     "metadata": {},
     "output_type": "execute_result"
    }
   ],
   "source": [
    "len(all_data)"
   ]
  },
  {
   "cell_type": "code",
   "execution_count": 12,
   "metadata": {},
   "outputs": [],
   "source": [
    "vocab = set()\n",
    "\n",
    "for story, question, answer in all_data:\n",
    "    vocab = vocab.union(set(story))\n",
    "    vocab = vocab.union(set(question))"
   ]
  },
  {
   "cell_type": "code",
   "execution_count": 13,
   "metadata": {},
   "outputs": [],
   "source": [
    "vocab.add('yes')"
   ]
  },
  {
   "cell_type": "code",
   "execution_count": 14,
   "metadata": {},
   "outputs": [],
   "source": [
    "vocab.add('no')"
   ]
  },
  {
   "cell_type": "code",
   "execution_count": 15,
   "metadata": {},
   "outputs": [
    {
     "data": {
      "text/plain": [
       "37"
      ]
     },
     "execution_count": 15,
     "metadata": {},
     "output_type": "execute_result"
    }
   ],
   "source": [
    "len(vocab)"
   ]
  },
  {
   "cell_type": "code",
   "execution_count": 16,
   "metadata": {},
   "outputs": [
    {
     "data": {
      "text/plain": [
       "{'.',\n",
       " '?',\n",
       " 'Daniel',\n",
       " 'Is',\n",
       " 'John',\n",
       " 'Mary',\n",
       " 'Sandra',\n",
       " 'apple',\n",
       " 'back',\n",
       " 'bathroom',\n",
       " 'bedroom',\n",
       " 'discarded',\n",
       " 'down',\n",
       " 'dropped',\n",
       " 'football',\n",
       " 'garden',\n",
       " 'got',\n",
       " 'grabbed',\n",
       " 'hallway',\n",
       " 'in',\n",
       " 'journeyed',\n",
       " 'kitchen',\n",
       " 'left',\n",
       " 'milk',\n",
       " 'moved',\n",
       " 'no',\n",
       " 'office',\n",
       " 'picked',\n",
       " 'put',\n",
       " 'the',\n",
       " 'there',\n",
       " 'to',\n",
       " 'took',\n",
       " 'travelled',\n",
       " 'up',\n",
       " 'went',\n",
       " 'yes'}"
      ]
     },
     "execution_count": 16,
     "metadata": {},
     "output_type": "execute_result"
    }
   ],
   "source": [
    "vocab"
   ]
  },
  {
   "cell_type": "code",
   "execution_count": 17,
   "metadata": {},
   "outputs": [],
   "source": [
    "vocab_len = len(vocab) + 1"
   ]
  },
  {
   "cell_type": "code",
   "execution_count": 18,
   "metadata": {},
   "outputs": [
    {
     "data": {
      "text/plain": [
       "38"
      ]
     },
     "execution_count": 18,
     "metadata": {},
     "output_type": "execute_result"
    }
   ],
   "source": [
    "vocab_len"
   ]
  },
  {
   "cell_type": "code",
   "execution_count": 19,
   "metadata": {},
   "outputs": [],
   "source": [
    "#Longest Story\n",
    "all_story_length = [len(data[0]) for data in all_data]"
   ]
  },
  {
   "cell_type": "code",
   "execution_count": 22,
   "metadata": {},
   "outputs": [],
   "source": [
    "max_story_len = max(all_story_length)"
   ]
  },
  {
   "cell_type": "code",
   "execution_count": 27,
   "metadata": {},
   "outputs": [
    {
     "data": {
      "text/plain": [
       "156"
      ]
     },
     "execution_count": 27,
     "metadata": {},
     "output_type": "execute_result"
    }
   ],
   "source": [
    "max_story_len"
   ]
  },
  {
   "cell_type": "code",
   "execution_count": 23,
   "metadata": {},
   "outputs": [],
   "source": [
    "all_question_length = [len(data[1]) for data in all_data]"
   ]
  },
  {
   "cell_type": "code",
   "execution_count": 25,
   "metadata": {},
   "outputs": [],
   "source": [
    "max_question_length = max(all_question_length)"
   ]
  },
  {
   "cell_type": "code",
   "execution_count": 26,
   "metadata": {},
   "outputs": [
    {
     "data": {
      "text/plain": [
       "6"
      ]
     },
     "execution_count": 26,
     "metadata": {},
     "output_type": "execute_result"
    }
   ],
   "source": [
    "max_question_length"
   ]
  },
  {
   "cell_type": "code",
   "execution_count": 28,
   "metadata": {},
   "outputs": [],
   "source": [
    "from keras.preprocessing.sequence import pad_sequences\n",
    "from keras.preprocessing.text import Tokenizer"
   ]
  },
  {
   "cell_type": "code",
   "execution_count": 29,
   "metadata": {},
   "outputs": [],
   "source": [
    "tokenizer = Tokenizer(filters=[])"
   ]
  },
  {
   "cell_type": "code",
   "execution_count": 31,
   "metadata": {},
   "outputs": [],
   "source": [
    "tokenizer.fit_on_texts(vocab)"
   ]
  },
  {
   "cell_type": "code",
   "execution_count": 32,
   "metadata": {},
   "outputs": [
    {
     "data": {
      "text/plain": [
       "{'.': 1,\n",
       " 'dropped': 2,\n",
       " 'is': 3,\n",
       " 'in': 4,\n",
       " 'bathroom': 5,\n",
       " '?': 6,\n",
       " 'john': 7,\n",
       " 'moved': 8,\n",
       " 'travelled': 9,\n",
       " 'bedroom': 10,\n",
       " 'put': 11,\n",
       " 'daniel': 12,\n",
       " 'picked': 13,\n",
       " 'discarded': 14,\n",
       " 'kitchen': 15,\n",
       " 'to': 16,\n",
       " 'up': 17,\n",
       " 'there': 18,\n",
       " 'no': 19,\n",
       " 'milk': 20,\n",
       " 'went': 21,\n",
       " 'journeyed': 22,\n",
       " 'the': 23,\n",
       " 'football': 24,\n",
       " 'yes': 25,\n",
       " 'got': 26,\n",
       " 'grabbed': 27,\n",
       " 'left': 28,\n",
       " 'hallway': 29,\n",
       " 'garden': 30,\n",
       " 'back': 31,\n",
       " 'down': 32,\n",
       " 'sandra': 33,\n",
       " 'apple': 34,\n",
       " 'took': 35,\n",
       " 'office': 36,\n",
       " 'mary': 37}"
      ]
     },
     "execution_count": 32,
     "metadata": {},
     "output_type": "execute_result"
    }
   ],
   "source": [
    "tokenizer.word_index"
   ]
  },
  {
   "cell_type": "code",
   "execution_count": 33,
   "metadata": {},
   "outputs": [],
   "source": [
    "train_story_text = []\n",
    "train_question_text = []\n",
    "train_answer_text = []\n",
    "for story, question, answer in train_data:\n",
    "    train_story_text.append(story)\n",
    "    train_question_text.append(question)\n",
    "    train_answer_text.append(answer)"
   ]
  },
  {
   "cell_type": "code",
   "execution_count": 38,
   "metadata": {},
   "outputs": [],
   "source": [
    "#train_story_seq = tokenizer.texts_to_sequences(train_story_text)"
   ]
  },
  {
   "cell_type": "code",
   "execution_count": 41,
   "metadata": {},
   "outputs": [
    {
     "data": {
      "text/plain": [
       "10000"
      ]
     },
     "execution_count": 41,
     "metadata": {},
     "output_type": "execute_result"
    }
   ],
   "source": [
    "#len(train_story_seq)"
   ]
  },
  {
   "cell_type": "code",
   "execution_count": 85,
   "metadata": {},
   "outputs": [],
   "source": [
    "def vectorize_stories(data, word_index = tokenizer.word_index, max_story_len = max_story_len, max_question_length = max_question_length):\n",
    "    #stories\n",
    "    X = []\n",
    "    #Questions\n",
    "    Xq = []\n",
    "    #Answers\n",
    "    Y = []\n",
    "    \n",
    "    for story, question,answer in data:\n",
    "        x = [word_index[word.lower()] for word in story]\n",
    "        xq = [word_index[word.lower()] for word in question]\n",
    "        \n",
    "        y = np.zeros(len(word_index)+1)\n",
    "        \n",
    "        y[word_index[answer]] = 1\n",
    "        \n",
    "        X.append(x)\n",
    "        Xq.append(xq)\n",
    "        Y.append(y)\n",
    "        \n",
    "    return (pad_sequences(X,maxlen=max_story_len),pad_sequences(Xq,maxlen=max_question_length),np.array(Y))"
   ]
  },
  {
   "cell_type": "code",
   "execution_count": 86,
   "metadata": {},
   "outputs": [],
   "source": [
    "input_train, question_train, answer_train = vectorize_stories(train_data)"
   ]
  },
  {
   "cell_type": "code",
   "execution_count": 87,
   "metadata": {},
   "outputs": [],
   "source": [
    "input_test, question_test, answer_test = vectorize_stories(test_data)"
   ]
  },
  {
   "cell_type": "code",
   "execution_count": 51,
   "metadata": {},
   "outputs": [
    {
     "data": {
      "text/plain": [
       "array([  0.,   0.,   0.,   0.,   0.,   0.,   0.,   0.,   0.,   0.,   0.,\n",
       "         0.,   0.,   0.,   0.,   0.,   0.,   0.,   0.,   0.,   0.,   0.,\n",
       "         0.,   0.,   0.,   0.,   0.,   0.,   0.,   0.,   0.,   0.,   0.,\n",
       "         0.,   0.,   0., 503., 497.])"
      ]
     },
     "execution_count": 51,
     "metadata": {},
     "output_type": "execute_result"
    }
   ],
   "source": [
    "sum(answer_test)"
   ]
  },
  {
   "cell_type": "code",
   "execution_count": 52,
   "metadata": {},
   "outputs": [],
   "source": [
    "from keras.models import Model, Sequential"
   ]
  },
  {
   "cell_type": "code",
   "execution_count": 53,
   "metadata": {},
   "outputs": [],
   "source": [
    "from keras.layers.embeddings import Embedding\n",
    "from keras.layers import Input, Activation, Dense, Permute, Dropout, add, dot, concatenate, LSTM"
   ]
  },
  {
   "cell_type": "code",
   "execution_count": 54,
   "metadata": {},
   "outputs": [],
   "source": [
    "#PLACEHOLDER shape = (max_story, batch_size)\n",
    "input_sequence = Input((max_story_len,))\n",
    "question = Input((max_question_length,))"
   ]
  },
  {
   "cell_type": "code",
   "execution_count": 81,
   "metadata": {},
   "outputs": [
    {
     "data": {
      "text/plain": [
       "TensorShape([Dimension(None), Dimension(156)])"
      ]
     },
     "execution_count": 81,
     "metadata": {},
     "output_type": "execute_result"
    }
   ],
   "source": [
    "input_sequence.shape"
   ]
  },
  {
   "cell_type": "code",
   "execution_count": 55,
   "metadata": {},
   "outputs": [],
   "source": [
    "vocab_size = len(vocab) + 1"
   ]
  },
  {
   "cell_type": "code",
   "execution_count": 56,
   "metadata": {},
   "outputs": [],
   "source": [
    "#INPUT ENCODER\n",
    "input_encoder_m = Sequential()"
   ]
  },
  {
   "cell_type": "code",
   "execution_count": 57,
   "metadata": {},
   "outputs": [
    {
     "name": "stdout",
     "output_type": "stream",
     "text": [
      "WARNING:tensorflow:From C:\\Users\\Gaurav\\Anaconda3\\envs\\nlp_course\\lib\\site-packages\\tensorflow\\python\\framework\\op_def_library.py:263: colocate_with (from tensorflow.python.framework.ops) is deprecated and will be removed in a future version.\n",
      "Instructions for updating:\n",
      "Colocations handled automatically by placer.\n",
      "WARNING:tensorflow:From C:\\Users\\Gaurav\\Anaconda3\\envs\\nlp_course\\lib\\site-packages\\keras\\backend\\tensorflow_backend.py:3445: calling dropout (from tensorflow.python.ops.nn_ops) with keep_prob is deprecated and will be removed in a future version.\n",
      "Instructions for updating:\n",
      "Please use `rate` instead of `keep_prob`. Rate should be set to `rate = 1 - keep_prob`.\n"
     ]
    }
   ],
   "source": [
    "input_encoder_m.add(Embedding(input_dim=vocab_size, output_dim=64))\n",
    "input_encoder_m.add(Dropout(0.3))\n",
    "\n",
    "#OUTPUT\n",
    "#(samples, story_maxlen, embedding_dim)"
   ]
  },
  {
   "cell_type": "code",
   "execution_count": 58,
   "metadata": {},
   "outputs": [],
   "source": [
    "#INPUTE ENCODER C\n",
    "input_encoder_c = Sequential()\n",
    "input_encoder_c.add(Embedding(input_dim=vocab_size,output_dim=max_question_length))\n",
    "input_encoder_c.add(Dropout(0.3))\n",
    "\n",
    "#OUTPUT (samples, story_maxlen, max_quest_len)"
   ]
  },
  {
   "cell_type": "code",
   "execution_count": 59,
   "metadata": {},
   "outputs": [],
   "source": [
    "#Question ENCODER\n",
    "question_encoder = Sequential()\n",
    "question_encoder.add(Embedding(input_dim=vocab_size,output_dim=64,input_length=max_question_length))\n",
    "question_encoder.add(Dropout(0.3))\n",
    "\n",
    "#OUTPUT  (samples, query_maxlen, embedding_dim)"
   ]
  },
  {
   "cell_type": "code",
   "execution_count": 60,
   "metadata": {},
   "outputs": [],
   "source": [
    "input_encoded_m = input_encoder_m(input_sequence)\n",
    "input_encoded_c = input_encoder_c(input_sequence)\n",
    "question_encoded = question_encoder(question)"
   ]
  },
  {
   "cell_type": "code",
   "execution_count": 61,
   "metadata": {},
   "outputs": [],
   "source": [
    "match = dot([input_encoded_m, question_encoded],axes=(2,2))\n",
    "match = Activation('softmax')(match)"
   ]
  },
  {
   "cell_type": "code",
   "execution_count": 62,
   "metadata": {},
   "outputs": [],
   "source": [
    "response = add([match,input_encoded_c])\n",
    "response = Permute((2,1))(response)"
   ]
  },
  {
   "cell_type": "code",
   "execution_count": 63,
   "metadata": {},
   "outputs": [],
   "source": [
    "answer = concatenate([response,question_encoded])"
   ]
  },
  {
   "cell_type": "code",
   "execution_count": 64,
   "metadata": {},
   "outputs": [
    {
     "data": {
      "text/plain": [
       "<tf.Tensor 'concatenate_1/concat:0' shape=(?, 6, 220) dtype=float32>"
      ]
     },
     "execution_count": 64,
     "metadata": {},
     "output_type": "execute_result"
    }
   ],
   "source": [
    "answer"
   ]
  },
  {
   "cell_type": "code",
   "execution_count": 65,
   "metadata": {},
   "outputs": [],
   "source": [
    "answer = LSTM(32)(answer)\n",
    "answer = Dropout(0.5)(answer)\n",
    "answer = Dense(vocab_size)(answer) #(samples, vocav_size) YES/NO 0000"
   ]
  },
  {
   "cell_type": "code",
   "execution_count": 66,
   "metadata": {},
   "outputs": [],
   "source": [
    "answer = Activation('softmax')(answer)"
   ]
  },
  {
   "cell_type": "code",
   "execution_count": 67,
   "metadata": {},
   "outputs": [],
   "source": [
    "model = Model([input_sequence,question],answer)"
   ]
  },
  {
   "cell_type": "code",
   "execution_count": 68,
   "metadata": {},
   "outputs": [],
   "source": [
    "model.compile(optimizer='rmsprop',loss='categorical_crossentropy',metrics=['accuracy'])"
   ]
  },
  {
   "cell_type": "code",
   "execution_count": 70,
   "metadata": {},
   "outputs": [
    {
     "name": "stdout",
     "output_type": "stream",
     "text": [
      "__________________________________________________________________________________________________\n",
      "Layer (type)                    Output Shape         Param #     Connected to                     \n",
      "==================================================================================================\n",
      "input_1 (InputLayer)            (None, 156)          0                                            \n",
      "__________________________________________________________________________________________________\n",
      "input_2 (InputLayer)            (None, 6)            0                                            \n",
      "__________________________________________________________________________________________________\n",
      "sequential_1 (Sequential)       multiple             2432        input_1[0][0]                    \n",
      "__________________________________________________________________________________________________\n",
      "sequential_3 (Sequential)       (None, 6, 64)        2432        input_2[0][0]                    \n",
      "__________________________________________________________________________________________________\n",
      "dot_1 (Dot)                     (None, 156, 6)       0           sequential_1[1][0]               \n",
      "                                                                 sequential_3[1][0]               \n",
      "__________________________________________________________________________________________________\n",
      "activation_1 (Activation)       (None, 156, 6)       0           dot_1[0][0]                      \n",
      "__________________________________________________________________________________________________\n",
      "sequential_2 (Sequential)       multiple             228         input_1[0][0]                    \n",
      "__________________________________________________________________________________________________\n",
      "add_1 (Add)                     (None, 156, 6)       0           activation_1[0][0]               \n",
      "                                                                 sequential_2[1][0]               \n",
      "__________________________________________________________________________________________________\n",
      "permute_1 (Permute)             (None, 6, 156)       0           add_1[0][0]                      \n",
      "__________________________________________________________________________________________________\n",
      "concatenate_1 (Concatenate)     (None, 6, 220)       0           permute_1[0][0]                  \n",
      "                                                                 sequential_3[1][0]               \n",
      "__________________________________________________________________________________________________\n",
      "lstm_1 (LSTM)                   (None, 32)           32384       concatenate_1[0][0]              \n",
      "__________________________________________________________________________________________________\n",
      "dropout_4 (Dropout)             (None, 32)           0           lstm_1[0][0]                     \n",
      "__________________________________________________________________________________________________\n",
      "dense_1 (Dense)                 (None, 38)           1254        dropout_4[0][0]                  \n",
      "__________________________________________________________________________________________________\n",
      "activation_2 (Activation)       (None, 38)           0           dense_1[0][0]                    \n",
      "==================================================================================================\n",
      "Total params: 38,730\n",
      "Trainable params: 38,730\n",
      "Non-trainable params: 0\n",
      "__________________________________________________________________________________________________\n"
     ]
    }
   ],
   "source": [
    "model.summary()"
   ]
  },
  {
   "cell_type": "code",
   "execution_count": 84,
   "metadata": {},
   "outputs": [
    {
     "data": {
      "text/plain": [
       "(10000, 156)"
      ]
     },
     "execution_count": 84,
     "metadata": {},
     "output_type": "execute_result"
    }
   ],
   "source": [
    "question_train.shape"
   ]
  },
  {
   "cell_type": "code",
   "execution_count": 88,
   "metadata": {},
   "outputs": [
    {
     "name": "stdout",
     "output_type": "stream",
     "text": [
      "WARNING:tensorflow:From C:\\Users\\Gaurav\\Anaconda3\\envs\\nlp_course\\lib\\site-packages\\tensorflow\\python\\ops\\math_ops.py:3066: to_int32 (from tensorflow.python.ops.math_ops) is deprecated and will be removed in a future version.\n",
      "Instructions for updating:\n",
      "Use tf.cast instead.\n",
      "WARNING:tensorflow:From C:\\Users\\Gaurav\\Anaconda3\\envs\\nlp_course\\lib\\site-packages\\tensorflow\\python\\ops\\math_grad.py:102: div (from tensorflow.python.ops.math_ops) is deprecated and will be removed in a future version.\n",
      "Instructions for updating:\n",
      "Deprecated in favor of operator or tf.math.divide.\n",
      "Train on 10000 samples, validate on 1000 samples\n",
      "Epoch 1/100\n",
      "10000/10000 [==============================] - 12s 1ms/step - loss: 0.8829 - acc: 0.4920 - val_loss: 0.7022 - val_acc: 0.4970\n",
      "Epoch 2/100\n",
      "10000/10000 [==============================] - 9s 907us/step - loss: 0.7040 - acc: 0.4935 - val_loss: 0.6944 - val_acc: 0.4970\n",
      "Epoch 3/100\n",
      "10000/10000 [==============================] - 9s 878us/step - loss: 0.6956 - acc: 0.5010 - val_loss: 0.6959 - val_acc: 0.4970\n",
      "Epoch 4/100\n",
      "10000/10000 [==============================] - 8s 757us/step - loss: 0.6955 - acc: 0.4968 - val_loss: 0.6934 - val_acc: 0.4970\n",
      "Epoch 5/100\n",
      "10000/10000 [==============================] - 8s 843us/step - loss: 0.6949 - acc: 0.4972 - val_loss: 0.6937 - val_acc: 0.4970 0.6946 - \n",
      "Epoch 6/100\n",
      "10000/10000 [==============================] - 8s 796us/step - loss: 0.6945 - acc: 0.4988 - val_loss: 0.6946 - val_acc: 0.4970\n",
      "Epoch 7/100\n",
      "10000/10000 [==============================] - 8s 809us/step - loss: 0.6950 - acc: 0.4988 - val_loss: 0.6957 - val_acc: 0.4970\n",
      "Epoch 8/100\n",
      "10000/10000 [==============================] - 8s 761us/step - loss: 0.6943 - acc: 0.4963 - val_loss: 0.6938 - val_acc: 0.5030\n",
      "Epoch 9/100\n",
      "10000/10000 [==============================] - 8s 799us/step - loss: 0.6942 - acc: 0.5019 - val_loss: 0.6940 - val_acc: 0.50306944 - ac\n",
      "Epoch 10/100\n",
      "10000/10000 [==============================] - 8s 763us/step - loss: 0.6950 - acc: 0.4973 - val_loss: 0.6937 - val_acc: 0.5030\n",
      "Epoch 11/100\n",
      "10000/10000 [==============================] - 8s 787us/step - loss: 0.6942 - acc: 0.4976 - val_loss: 0.6933 - val_acc: 0.4940\n",
      "Epoch 12/100\n",
      "10000/10000 [==============================] - 8s 765us/step - loss: 0.6928 - acc: 0.5071 - val_loss: 0.6925 - val_acc: 0.5040\n",
      "Epoch 13/100\n",
      "10000/10000 [==============================] - 8s 763us/step - loss: 0.6862 - acc: 0.5353 - val_loss: 0.6795 - val_acc: 0.5630\n",
      "Epoch 14/100\n",
      "10000/10000 [==============================] - 8s 819us/step - loss: 0.6627 - acc: 0.6040 - val_loss: 0.6390 - val_acc: 0.6490\n",
      "Epoch 15/100\n",
      "10000/10000 [==============================] - 8s 839us/step - loss: 0.6350 - acc: 0.6397 - val_loss: 0.6173 - val_acc: 0.6580\n",
      "Epoch 16/100\n",
      "10000/10000 [==============================] - 9s 899us/step - loss: 0.6249 - acc: 0.6561 - val_loss: 0.6132 - val_acc: 0.6660\n",
      "Epoch 17/100\n",
      "10000/10000 [==============================] - 11s 1ms/step - loss: 0.6181 - acc: 0.6619 - val_loss: 0.6230 - val_acc: 0.6630\n",
      "Epoch 18/100\n",
      "10000/10000 [==============================] - 12s 1ms/step - loss: 0.6108 - acc: 0.6670 - val_loss: 0.5936 - val_acc: 0.6880\n",
      "Epoch 19/100\n",
      "10000/10000 [==============================] - 12s 1ms/step - loss: 0.5958 - acc: 0.6860 - val_loss: 0.5758 - val_acc: 0.6990\n",
      "Epoch 20/100\n",
      "10000/10000 [==============================] - ETA: 0s - loss: 0.5782 - acc: 0.700 - 11s 1ms/step - loss: 0.5783 - acc: 0.7004 - val_loss: 0.5603 - val_acc: 0.7090\n",
      "Epoch 21/100\n",
      "10000/10000 [==============================] - 10s 1ms/step - loss: 0.5586 - acc: 0.7088 - val_loss: 0.5325 - val_acc: 0.7280\n",
      "Epoch 22/100\n",
      "10000/10000 [==============================] - 11s 1ms/step - loss: 0.5422 - acc: 0.7300 - val_loss: 0.5105 - val_acc: 0.7400\n",
      "Epoch 23/100\n",
      "10000/10000 [==============================] - 11s 1ms/step - loss: 0.5305 - acc: 0.7335 - val_loss: 0.5034 - val_acc: 0.7470\n",
      "Epoch 24/100\n",
      "10000/10000 [==============================] - 13s 1ms/step - loss: 0.5194 - acc: 0.7418 - val_loss: 0.4757 - val_acc: 0.7940\n",
      "Epoch 25/100\n",
      "10000/10000 [==============================] - 17s 2ms/step - loss: 0.4985 - acc: 0.7652 - val_loss: 0.4556 - val_acc: 0.8020\n",
      "Epoch 26/100\n",
      "10000/10000 [==============================] - 13s 1ms/step - loss: 0.4731 - acc: 0.7803 - val_loss: 0.4564 - val_acc: 0.8020\n",
      "Epoch 27/100\n",
      "10000/10000 [==============================] - 12s 1ms/step - loss: 0.4698 - acc: 0.7827 - val_loss: 0.4321 - val_acc: 0.8120\n",
      "Epoch 28/100\n",
      "10000/10000 [==============================] - 11s 1ms/step - loss: 0.4469 - acc: 0.8001 - val_loss: 0.4395 - val_acc: 0.7990\n",
      "Epoch 29/100\n",
      "10000/10000 [==============================] - 11s 1ms/step - loss: 0.4443 - acc: 0.7995 - val_loss: 0.4167 - val_acc: 0.8090\n",
      "Epoch 30/100\n",
      "10000/10000 [==============================] - 10s 979us/step - loss: 0.4374 - acc: 0.7966 - val_loss: 0.4504 - val_acc: 0.7900\n",
      "Epoch 31/100\n",
      "10000/10000 [==============================] - 11s 1ms/step - loss: 0.4304 - acc: 0.8020 - val_loss: 0.4349 - val_acc: 0.8030\n",
      "Epoch 32/100\n",
      "10000/10000 [==============================] - 10s 1ms/step - loss: 0.4239 - acc: 0.8078 - val_loss: 0.4289 - val_acc: 0.8050\n",
      "Epoch 33/100\n",
      "10000/10000 [==============================] - 10s 976us/step - loss: 0.4183 - acc: 0.8141 - val_loss: 0.4191 - val_acc: 0.8050acc: 0.\n",
      "Epoch 34/100\n",
      "10000/10000 [==============================] - 11s 1ms/step - loss: 0.4196 - acc: 0.8098 - val_loss: 0.4258 - val_acc: 0.8010\n",
      "Epoch 35/100\n",
      "10000/10000 [==============================] - 10s 1ms/step - loss: 0.4127 - acc: 0.8122 - val_loss: 0.4119 - val_acc: 0.8160\n",
      "Epoch 36/100\n",
      "10000/10000 [==============================] - 10s 971us/step - loss: 0.4133 - acc: 0.8113 - val_loss: 0.4278 - val_acc: 0.7950\n",
      "Epoch 37/100\n",
      "10000/10000 [==============================] - 10s 1ms/step - loss: 0.4058 - acc: 0.8125 - val_loss: 0.4083 - val_acc: 0.8060\n",
      "Epoch 38/100\n",
      "10000/10000 [==============================] - 10s 969us/step - loss: 0.4054 - acc: 0.8094 - val_loss: 0.4142 - val_acc: 0.8070\n",
      "Epoch 39/100\n",
      "10000/10000 [==============================] - 11s 1ms/step - loss: 0.4056 - acc: 0.8117 - val_loss: 0.4103 - val_acc: 0.8100\n",
      "Epoch 40/100\n",
      "10000/10000 [==============================] - 11s 1ms/step - loss: 0.3941 - acc: 0.8187 - val_loss: 0.4445 - val_acc: 0.7970\n",
      "Epoch 41/100\n",
      "10000/10000 [==============================] - 10s 1ms/step - loss: 0.3987 - acc: 0.8202 - val_loss: 0.4122 - val_acc: 0.8070\n",
      "Epoch 42/100\n",
      "10000/10000 [==============================] - 11s 1ms/step - loss: 0.3859 - acc: 0.8261 - val_loss: 0.4246 - val_acc: 0.8060\n",
      "Epoch 43/100\n",
      "10000/10000 [==============================] - 11s 1ms/step - loss: 0.3862 - acc: 0.8229 - val_loss: 0.4039 - val_acc: 0.8090\n",
      "Epoch 44/100\n",
      "10000/10000 [==============================] - 10s 981us/step - loss: 0.3829 - acc: 0.8240 - val_loss: 0.4155 - val_acc: 0.8050\n",
      "Epoch 45/100\n",
      "10000/10000 [==============================] - 11s 1ms/step - loss: 0.3784 - acc: 0.8270 - val_loss: 0.4064 - val_acc: 0.8120\n",
      "Epoch 46/100\n",
      "10000/10000 [==============================] - 11s 1ms/step - loss: 0.3774 - acc: 0.8267 - val_loss: 0.4015 - val_acc: 0.8150\n",
      "Epoch 47/100\n",
      "10000/10000 [==============================] - 10s 976us/step - loss: 0.3747 - acc: 0.8292 - val_loss: 0.4098 - val_acc: 0.8090\n",
      "Epoch 48/100\n",
      "10000/10000 [==============================] - 11s 1ms/step - loss: 0.3701 - acc: 0.8299 - val_loss: 0.4067 - val_acc: 0.8120\n",
      "Epoch 49/100\n",
      "10000/10000 [==============================] - 10s 1ms/step - loss: 0.3681 - acc: 0.8305 - val_loss: 0.4105 - val_acc: 0.8050\n",
      "Epoch 50/100\n",
      "10000/10000 [==============================] - 9s 929us/step - loss: 0.3658 - acc: 0.8334 - val_loss: 0.4043 - val_acc: 0.8040\n",
      "Epoch 51/100\n",
      "10000/10000 [==============================] - 10s 970us/step - loss: 0.3627 - acc: 0.8364 - val_loss: 0.4131 - val_acc: 0.8000\n",
      "Epoch 52/100\n",
      "10000/10000 [==============================] - 8s 835us/step - loss: 0.3595 - acc: 0.8368 - val_loss: 0.4126 - val_acc: 0.8100\n",
      "Epoch 53/100\n",
      "10000/10000 [==============================] - 8s 830us/step - loss: 0.3557 - acc: 0.8366 - val_loss: 0.4081 - val_acc: 0.8090\n",
      "Epoch 54/100\n",
      "10000/10000 [==============================] - 8s 839us/step - loss: 0.3588 - acc: 0.8346 - val_loss: 0.4079 - val_acc: 0.8100\n",
      "Epoch 55/100\n",
      "10000/10000 [==============================] - 8s 780us/step - loss: 0.3506 - acc: 0.8405 - val_loss: 0.4189 - val_acc: 0.8100\n",
      "Epoch 56/100\n",
      "10000/10000 [==============================] - 7s 742us/step - loss: 0.3524 - acc: 0.8389 - val_loss: 0.4348 - val_acc: 0.8060\n",
      "Epoch 57/100\n",
      "10000/10000 [==============================] - 8s 783us/step - loss: 0.3456 - acc: 0.8396 - val_loss: 0.4136 - val_acc: 0.8030\n",
      "Epoch 58/100\n",
      "10000/10000 [==============================] - 7s 749us/step - loss: 0.3434 - acc: 0.8425 - val_loss: 0.4313 - val_acc: 0.8100\n",
      "Epoch 59/100\n",
      "10000/10000 [==============================] - 8s 805us/step - loss: 0.3460 - acc: 0.8417 - val_loss: 0.4635 - val_acc: 0.8010\n",
      "Epoch 60/100\n",
      "10000/10000 [==============================] - ETA: 0s - loss: 0.3442 - acc: 0.8459- ETA: - ETA: 2s - loss: 0.3460 - ac - 8s 784us/step - loss: 0.3442 - acc: 0.8459 - val_loss: 0.4230 - val_acc: 0.8020\n",
      "Epoch 61/100\n",
      "10000/10000 [==============================] - 8s 786us/step - loss: 0.3354 - acc: 0.8456 - val_loss: 0.4211 - val_acc: 0.7980\n",
      "Epoch 62/100\n",
      "10000/10000 [==============================] - 8s 760us/step - loss: 0.3416 - acc: 0.8461 - val_loss: 0.4182 - val_acc: 0.8040\n",
      "Epoch 63/100\n",
      "10000/10000 [==============================] - 8s 799us/step - loss: 0.3339 - acc: 0.8461 - val_loss: 0.4420 - val_acc: 0.8010\n",
      "Epoch 64/100\n",
      "10000/10000 [==============================] - 8s 751us/step - loss: 0.3367 - acc: 0.8474 - val_loss: 0.4218 - val_acc: 0.8070\n",
      "Epoch 65/100\n",
      "10000/10000 [==============================] - 8s 810us/step - loss: 0.3338 - acc: 0.8502 - val_loss: 0.4346 - val_acc: 0.8070\n",
      "Epoch 66/100\n",
      "10000/10000 [==============================] - 7s 747us/step - loss: 0.3269 - acc: 0.8524 - val_loss: 0.4431 - val_acc: 0.8040\n",
      "Epoch 67/100\n",
      "10000/10000 [==============================] - 8s 835us/step - loss: 0.3263 - acc: 0.8541 - val_loss: 0.4465 - val_acc: 0.8020\n",
      "Epoch 68/100\n",
      "10000/10000 [==============================] - 7s 749us/step - loss: 0.3284 - acc: 0.8535 - val_loss: 0.4620 - val_acc: 0.7930\n",
      "Epoch 69/100\n",
      "10000/10000 [==============================] - 8s 838us/step - loss: 0.3229 - acc: 0.8507 - val_loss: 0.4795 - val_acc: 0.7910\n",
      "Epoch 70/100\n",
      "10000/10000 [==============================] - 7s 746us/step - loss: 0.3246 - acc: 0.8502 - val_loss: 0.4462 - val_acc: 0.7960\n",
      "Epoch 71/100\n",
      "10000/10000 [==============================] - 8s 810us/step - loss: 0.3137 - acc: 0.8568 - val_loss: 0.4574 - val_acc: 0.8000\n",
      "Epoch 72/100\n",
      "10000/10000 [==============================] - 8s 773us/step - loss: 0.3195 - acc: 0.8519 - val_loss: 0.4627 - val_acc: 0.8010\n",
      "Epoch 73/100\n",
      "10000/10000 [==============================] - 8s 832us/step - loss: 0.3109 - acc: 0.8593 - val_loss: 0.4628 - val_acc: 0.7990\n",
      "Epoch 74/100\n",
      "10000/10000 [==============================] - 8s 763us/step - loss: 0.3136 - acc: 0.8563 - val_loss: 0.4777 - val_acc: 0.8000\n",
      "Epoch 75/100\n",
      "10000/10000 [==============================] - 8s 819us/step - loss: 0.3120 - acc: 0.8600 - val_loss: 0.4788 - val_acc: 0.7950\n",
      "Epoch 76/100\n",
      "10000/10000 [==============================] - 8s 758us/step - loss: 0.3101 - acc: 0.8586 - val_loss: 0.4697 - val_acc: 0.7990\n",
      "Epoch 77/100\n",
      "10000/10000 [==============================] - 9s 915us/step - loss: 0.3033 - acc: 0.8650 - val_loss: 0.4939 - val_acc: 0.7920\n",
      "Epoch 78/100\n",
      "10000/10000 [==============================] - 8s 758us/step - loss: 0.3073 - acc: 0.8589 - val_loss: 0.4889 - val_acc: 0.7960\n",
      "Epoch 79/100\n",
      "10000/10000 [==============================] - 8s 827us/step - loss: 0.3043 - acc: 0.8622 - val_loss: 0.5037 - val_acc: 0.7940\n",
      "Epoch 80/100\n",
      "10000/10000 [==============================] - 8s 778us/step - loss: 0.3088 - acc: 0.8615 - val_loss: 0.4647 - val_acc: 0.7980\n",
      "Epoch 81/100\n",
      "10000/10000 [==============================] - 8s 829us/step - loss: 0.3008 - acc: 0.8663 - val_loss: 0.5057 - val_acc: 0.8020\n",
      "Epoch 82/100\n",
      "10000/10000 [==============================] - 8s 784us/step - loss: 0.2998 - acc: 0.8643 - val_loss: 0.5021 - val_acc: 0.7950\n",
      "Epoch 83/100\n",
      "10000/10000 [==============================] - 8s 833us/step - loss: 0.3015 - acc: 0.8679 - val_loss: 0.4900 - val_acc: 0.8010\n",
      "Epoch 84/100\n",
      "10000/10000 [==============================] - 8s 762us/step - loss: 0.2958 - acc: 0.8650 - val_loss: 0.4999 - val_acc: 0.7860\n",
      "Epoch 85/100\n",
      "10000/10000 [==============================] - 9s 871us/step - loss: 0.3010 - acc: 0.8661 - val_loss: 0.4687 - val_acc: 0.7990\n",
      "Epoch 86/100\n",
      "10000/10000 [==============================] - 8s 823us/step - loss: 0.2940 - acc: 0.8674 - val_loss: 0.4921 - val_acc: 0.7950\n",
      "Epoch 87/100\n",
      "10000/10000 [==============================] - 9s 876us/step - loss: 0.2948 - acc: 0.8671 - val_loss: 0.5265 - val_acc: 0.7920\n",
      "Epoch 88/100\n",
      "10000/10000 [==============================] - 7s 750us/step - loss: 0.3000 - acc: 0.8663 - val_loss: 0.5136 - val_acc: 0.7930\n",
      "Epoch 89/100\n",
      "10000/10000 [==============================] - 8s 840us/step - loss: 0.2949 - acc: 0.8658 - val_loss: 0.4880 - val_acc: 0.7890\n",
      "Epoch 90/100\n",
      "10000/10000 [==============================] - 8s 755us/step - loss: 0.2885 - acc: 0.8718 - val_loss: 0.5162 - val_acc: 0.7910\n",
      "Epoch 91/100\n",
      "10000/10000 [==============================] - 9s 851us/step - loss: 0.2896 - acc: 0.8706 - val_loss: 0.5183 - val_acc: 0.7890\n",
      "Epoch 92/100\n",
      "10000/10000 [==============================] - 8s 761us/step - loss: 0.2920 - acc: 0.8704 - val_loss: 0.4801 - val_acc: 0.7840\n",
      "Epoch 93/100\n",
      "10000/10000 [==============================] - 8s 845us/step - loss: 0.2839 - acc: 0.8761 - val_loss: 0.4973 - val_acc: 0.7930\n",
      "Epoch 94/100\n",
      "10000/10000 [==============================] - 8s 795us/step - loss: 0.2883 - acc: 0.8698 - val_loss: 0.5140 - val_acc: 0.7870\n",
      "Epoch 95/100\n",
      "10000/10000 [==============================] - 10s 958us/step - loss: 0.2819 - acc: 0.8737 - val_loss: 0.5016 - val_acc: 0.7900\n",
      "Epoch 96/100\n",
      "10000/10000 [==============================] - 10s 1ms/step - loss: 0.2821 - acc: 0.8740 - val_loss: 0.4869 - val_acc: 0.7960\n",
      "Epoch 97/100\n",
      "10000/10000 [==============================] - 22s 2ms/step - loss: 0.2840 - acc: 0.8750 - val_loss: 0.5035 - val_acc: 0.7940\n",
      "Epoch 98/100\n",
      "10000/10000 [==============================] - 17s 2ms/step - loss: 0.2765 - acc: 0.8758 - val_loss: 0.5072 - val_acc: 0.7960\n",
      "Epoch 99/100\n",
      "10000/10000 [==============================] - 14s 1ms/step - loss: 0.2816 - acc: 0.8712 - val_loss: 0.5027 - val_acc: 0.8010\n",
      "Epoch 100/100\n",
      "10000/10000 [==============================] - 15s 1ms/step - loss: 0.2776 - acc: 0.8757 - val_loss: 0.5366 - val_acc: 0.7930\n"
     ]
    }
   ],
   "source": [
    "# train\n",
    "history = model.fit([input_train, question_train], answer_train,batch_size=32,epochs=100,validation_data=([input_test, question_test], answer_test))"
   ]
  },
  {
   "cell_type": "code",
   "execution_count": 89,
   "metadata": {},
   "outputs": [],
   "source": [
    "import matplotlib.pyplot as plt"
   ]
  },
  {
   "cell_type": "code",
   "execution_count": 95,
   "metadata": {},
   "outputs": [
    {
     "name": "stderr",
     "output_type": "stream",
     "text": [
      "No handles with labels found to put in legend.\n"
     ]
    },
    {
     "data": {
      "text/plain": [
       "<matplotlib.legend.Legend at 0x21039fb9288>"
      ]
     },
     "execution_count": 95,
     "metadata": {},
     "output_type": "execute_result"
    },
    {
     "data": {
      "image/png": "[encoded data removed]",
      "text/plain": [
       "<Figure size 432x288 with 1 Axes>"
      ]
     },
     "metadata": {
      "needs_background": "light"
     },
     "output_type": "display_data"
    }
   ],
   "source": [
    "plt.plot(history.history['acc'])\n",
    "plt.plot(history.history['val_acc'])\n",
    "plt.legend()"
   ]
  },
  {
   "cell_type": "code",
   "execution_count": 96,
   "metadata": {},
   "outputs": [],
   "source": [
    "model.save('chatbotmodel.h5')"
   ]
  },
  {
   "cell_type": "code",
   "execution_count": 97,
   "metadata": {},
   "outputs": [],
   "source": [
    "pred_result = model.predict(([input_test,question_test]))"
   ]
  },
  {
   "cell_type": "code",
   "execution_count": 98,
   "metadata": {},
   "outputs": [
    {
     "data": {
      "text/plain": [
       "['Mary',\n",
       " 'got',\n",
       " 'the',\n",
       " 'milk',\n",
       " 'there',\n",
       " '.',\n",
       " 'John',\n",
       " 'moved',\n",
       " 'to',\n",
       " 'the',\n",
       " 'bedroom',\n",
       " '.']"
      ]
     },
     "execution_count": 98,
     "metadata": {},
     "output_type": "execute_result"
    }
   ],
   "source": [
    "test_data[0][0]"
   ]
  },
  {
   "cell_type": "code",
   "execution_count": 100,
   "metadata": {},
   "outputs": [
    {
     "data": {
      "text/plain": [
       "(1000, 38)"
      ]
     },
     "execution_count": 100,
     "metadata": {},
     "output_type": "execute_result"
    }
   ],
   "source": [
    "pred_result.shape"
   ]
  },
  {
   "cell_type": "code",
   "execution_count": 101,
   "metadata": {},
   "outputs": [
    {
     "data": {
      "text/plain": [
       "array([1.53493822e-14, 1.41967237e-14, 1.43516113e-14, 1.46084842e-14,\n",
       "       1.47556138e-14, 1.36015738e-14, 1.41527372e-14, 1.47915703e-14,\n",
       "       1.45014920e-14, 1.39592546e-14, 1.52667524e-14, 1.39803567e-14,\n",
       "       1.49672992e-14, 1.53901601e-14, 1.27283861e-14, 1.35278895e-14,\n",
       "       1.36318840e-14, 1.36532470e-14, 1.34680314e-14, 1.45987060e-14,\n",
       "       1.18159453e-14, 1.34934864e-14, 1.44929201e-14, 1.41734294e-14,\n",
       "       1.32723863e-14, 1.30338601e-14, 1.39282701e-14, 1.52901543e-14,\n",
       "       1.38276045e-14, 1.23966169e-14, 1.49522898e-14, 1.54712160e-14,\n",
       "       1.38880013e-14, 1.29135492e-14, 1.53790385e-14, 1.33208518e-14,\n",
       "       9.98858094e-01, 1.14195724e-03], dtype=float32)"
      ]
     },
     "execution_count": 101,
     "metadata": {},
     "output_type": "execute_result"
    }
   ],
   "source": [
    "pred_result[0]"
   ]
  },
  {
   "cell_type": "code",
   "execution_count": 102,
   "metadata": {},
   "outputs": [],
   "source": [
    "val_max = np.argmax(pred_result[0])"
   ]
  },
  {
   "cell_type": "code",
   "execution_count": 103,
   "metadata": {},
   "outputs": [
    {
     "data": {
      "text/plain": [
       "36"
      ]
     },
     "execution_count": 103,
     "metadata": {},
     "output_type": "execute_result"
    }
   ],
   "source": [
    "val_max"
   ]
  },
  {
   "cell_type": "code",
   "execution_count": 104,
   "metadata": {},
   "outputs": [],
   "source": [
    "for key, val in tokenizer.word_index.items():\n",
    "    if val == val_max:\n",
    "        k = key"
   ]
  },
  {
   "cell_type": "code",
   "execution_count": 105,
   "metadata": {},
   "outputs": [
    {
     "data": {
      "text/plain": [
       "'no'"
      ]
     },
     "execution_count": 105,
     "metadata": {},
     "output_type": "execute_result"
    }
   ],
   "source": [
    "k"
   ]
  },
  {
   "cell_type": "code",
   "execution_count": 106,
   "metadata": {},
   "outputs": [
    {
     "data": {
      "text/plain": [
       "0.9988581"
      ]
     },
     "execution_count": 106,
     "metadata": {},
     "output_type": "execute_result"
    }
   ],
   "source": [
    "pred_result[0][val_max]"
   ]
  },
  {
   "cell_type": "code",
   "execution_count": 107,
   "metadata": {},
   "outputs": [
    {
     "data": {
      "text/plain": [
       "{'.',\n",
       " '?',\n",
       " 'Daniel',\n",
       " 'Is',\n",
       " 'John',\n",
       " 'Mary',\n",
       " 'Sandra',\n",
       " 'apple',\n",
       " 'back',\n",
       " 'bathroom',\n",
       " 'bedroom',\n",
       " 'discarded',\n",
       " 'down',\n",
       " 'dropped',\n",
       " 'football',\n",
       " 'garden',\n",
       " 'got',\n",
       " 'grabbed',\n",
       " 'hallway',\n",
       " 'in',\n",
       " 'journeyed',\n",
       " 'kitchen',\n",
       " 'left',\n",
       " 'milk',\n",
       " 'moved',\n",
       " 'no',\n",
       " 'office',\n",
       " 'picked',\n",
       " 'put',\n",
       " 'the',\n",
       " 'there',\n",
       " 'to',\n",
       " 'took',\n",
       " 'travelled',\n",
       " 'up',\n",
       " 'went',\n",
       " 'yes'}"
      ]
     },
     "execution_count": 107,
     "metadata": {},
     "output_type": "execute_result"
    }
   ],
   "source": [
    "vocab"
   ]
  },
  {
   "cell_type": "code",
   "execution_count": 108,
   "metadata": {},
   "outputs": [],
   "source": [
    "my_story = 'John left the kitchen . Sandra dropped the football in the garden .'"
   ]
  },
  {
   "cell_type": "code",
   "execution_count": 109,
   "metadata": {},
   "outputs": [
    {
     "data": {
      "text/plain": [
       "['John',\n",
       " 'left',\n",
       " 'the',\n",
       " 'kitchen',\n",
       " '.',\n",
       " 'Sandra',\n",
       " 'dropped',\n",
       " 'the',\n",
       " 'football',\n",
       " 'in',\n",
       " 'the',\n",
       " 'garden',\n",
       " '.']"
      ]
     },
     "execution_count": 109,
     "metadata": {},
     "output_type": "execute_result"
    }
   ],
   "source": [
    "my_story.split()"
   ]
  },
  {
   "cell_type": "code",
   "execution_count": 110,
   "metadata": {},
   "outputs": [],
   "source": [
    "my_question = 'Is the football in the garden ?'"
   ]
  },
  {
   "cell_type": "code",
   "execution_count": 111,
   "metadata": {},
   "outputs": [
    {
     "data": {
      "text/plain": [
       "['Is', 'the', 'football', 'in', 'the', 'garden', '?']"
      ]
     },
     "execution_count": 111,
     "metadata": {},
     "output_type": "execute_result"
    }
   ],
   "source": [
    "my_question.split()"
   ]
  },
  {
   "cell_type": "code",
   "execution_count": 117,
   "metadata": {},
   "outputs": [],
   "source": [
    "my_data = [[my_story.split(),my_question.split(),'yes']]"
   ]
  },
  {
   "cell_type": "code",
   "execution_count": 118,
   "metadata": {},
   "outputs": [
    {
     "data": {
      "text/plain": [
       "[[['John',\n",
       "   'left',\n",
       "   'the',\n",
       "   'kitchen',\n",
       "   '.',\n",
       "   'Sandra',\n",
       "   'dropped',\n",
       "   'the',\n",
       "   'football',\n",
       "   'in',\n",
       "   'the',\n",
       "   'garden',\n",
       "   '.'],\n",
       "  ['Is', 'the', 'football', 'in', 'the', 'garden', '?'],\n",
       "  'yes']]"
      ]
     },
     "execution_count": 118,
     "metadata": {},
     "output_type": "execute_result"
    }
   ],
   "source": [
    "my_data"
   ]
  },
  {
   "cell_type": "code",
   "execution_count": 119,
   "metadata": {},
   "outputs": [],
   "source": [
    "my_story, my_question, my_answer = vectorize_stories(my_data)"
   ]
  },
  {
   "cell_type": "code",
   "execution_count": 120,
   "metadata": {},
   "outputs": [
    {
     "data": {
      "text/plain": [
       "array([[ 0,  0,  0,  0,  0,  0,  0,  0,  0,  0,  0,  0,  0,  0,  0,  0,\n",
       "         0,  0,  0,  0,  0,  0,  0,  0,  0,  0,  0,  0,  0,  0,  0,  0,\n",
       "         0,  0,  0,  0,  0,  0,  0,  0,  0,  0,  0,  0,  0,  0,  0,  0,\n",
       "         0,  0,  0,  0,  0,  0,  0,  0,  0,  0,  0,  0,  0,  0,  0,  0,\n",
       "         0,  0,  0,  0,  0,  0,  0,  0,  0,  0,  0,  0,  0,  0,  0,  0,\n",
       "         0,  0,  0,  0,  0,  0,  0,  0,  0,  0,  0,  0,  0,  0,  0,  0,\n",
       "         0,  0,  0,  0,  0,  0,  0,  0,  0,  0,  0,  0,  0,  0,  0,  0,\n",
       "         0,  0,  0,  0,  0,  0,  0,  0,  0,  0,  0,  0,  0,  0,  0,  0,\n",
       "         0,  0,  0,  0,  0,  0,  0,  0,  0,  0,  0,  0,  0,  0,  0,  7,\n",
       "        32,  2, 15,  1,  5, 29,  2, 21, 34,  2, 18,  1]])"
      ]
     },
     "execution_count": 120,
     "metadata": {},
     "output_type": "execute_result"
    }
   ],
   "source": [
    "my_story"
   ]
  },
  {
   "cell_type": "code",
   "execution_count": 121,
   "metadata": {},
   "outputs": [],
   "source": [
    "pred_result = model.predict(([my_story,my_question]))"
   ]
  },
  {
   "cell_type": "code",
   "execution_count": 122,
   "metadata": {},
   "outputs": [],
   "source": [
    "val_max = np.argmax(pred_result[0])"
   ]
  },
  {
   "cell_type": "code",
   "execution_count": 123,
   "metadata": {},
   "outputs": [
    {
     "data": {
      "text/plain": [
       "37"
      ]
     },
     "execution_count": 123,
     "metadata": {},
     "output_type": "execute_result"
    }
   ],
   "source": [
    "val_max"
   ]
  },
  {
   "cell_type": "code",
   "execution_count": 124,
   "metadata": {},
   "outputs": [],
   "source": [
    "for key, val in tokenizer.word_index.items():\n",
    "    if val == val_max:\n",
    "        k = key"
   ]
  },
  {
   "cell_type": "code",
   "execution_count": 125,
   "metadata": {},
   "outputs": [
    {
     "data": {
      "text/plain": [
       "'yes'"
      ]
     },
     "execution_count": 125,
     "metadata": {},
     "output_type": "execute_result"
    }
   ],
   "source": [
    "k"
   ]
  },
  {
   "cell_type": "code",
   "execution_count": 126,
   "metadata": {},
   "outputs": [
    {
     "data": {
      "text/plain": [
       "0.72423255"
      ]
     },
     "execution_count": 126,
     "metadata": {},
     "output_type": "execute_result"
    }
   ],
   "source": [
    "pred_result[0][val_max]"
   ]
  }
 ],
 "metadata": {
  "kernelspec": {
   "display_name": "Python 3",
   "language": "python",
   "name": "python3"
  },
  "language_info": {
   "codemirror_mode": {
    "name": "ipython",
    "version": 3
   },
   "file_extension": ".py",
   "mimetype": "text/x-python",
   "name": "python",
   "nbconvert_exporter": "python",
   "pygments_lexer": "ipython3",
   "version": "3.7.4"
  }
 },
 "nbformat": 4,
 "nbformat_minor": 2
}
